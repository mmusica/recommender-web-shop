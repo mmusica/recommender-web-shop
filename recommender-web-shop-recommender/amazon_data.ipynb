{
 "cells": [
  {
   "cell_type": "code",
   "execution_count": 1,
   "id": "41e6319f-d5eb-47c5-a9c9-14274046a5cb",
   "metadata": {},
   "outputs": [],
   "source": [
    "import pandas as pd\n",
    "import pandas as pd\n",
    "import json\n",
    "from io import StringIO"
   ]
  },
  {
   "cell_type": "code",
   "execution_count": 2,
   "id": "1ae806d0-222c-4dcc-9709-c58c984f0c61",
   "metadata": {},
   "outputs": [],
   "source": [
    "file = \"meta_Electronics.jsonl\"\n",
    "\n",
    "df = pd.read_json(path_or_buf=file, lines=True)\n",
    "#df = pd.read_json(StringIO(str(data)))\n"
   ]
  },
  {
   "cell_type": "code",
   "execution_count": 3,
   "id": "40686fbf-e17a-42bd-a3a6-8d544a930ea6",
   "metadata": {},
   "outputs": [
    {
     "data": {
      "text/html": [
       "<div>\n",
       "<style scoped>\n",
       "    .dataframe tbody tr th:only-of-type {\n",
       "        vertical-align: middle;\n",
       "    }\n",
       "\n",
       "    .dataframe tbody tr th {\n",
       "        vertical-align: top;\n",
       "    }\n",
       "\n",
       "    .dataframe thead th {\n",
       "        text-align: right;\n",
       "    }\n",
       "</style>\n",
       "<table border=\"1\" class=\"dataframe\">\n",
       "  <thead>\n",
       "    <tr style=\"text-align: right;\">\n",
       "      <th></th>\n",
       "      <th>main_category</th>\n",
       "      <th>title</th>\n",
       "      <th>average_rating</th>\n",
       "      <th>rating_number</th>\n",
       "      <th>features</th>\n",
       "      <th>description</th>\n",
       "      <th>price</th>\n",
       "      <th>images</th>\n",
       "      <th>videos</th>\n",
       "      <th>store</th>\n",
       "      <th>categories</th>\n",
       "      <th>details</th>\n",
       "      <th>parent_asin</th>\n",
       "      <th>bought_together</th>\n",
       "      <th>subtitle</th>\n",
       "      <th>author</th>\n",
       "    </tr>\n",
       "  </thead>\n",
       "  <tbody>\n",
       "    <tr>\n",
       "      <th>0</th>\n",
       "      <td>All Electronics</td>\n",
       "      <td>FS-1051 FATSHARK TELEPORTER V3 HEADSET</td>\n",
       "      <td>3.5</td>\n",
       "      <td>6</td>\n",
       "      <td>[]</td>\n",
       "      <td>[Teleporter V3 The “Teleporter V3” kit sets a ...</td>\n",
       "      <td>None</td>\n",
       "      <td>[{'thumb': 'https://m.media-amazon.com/images/...</td>\n",
       "      <td>[]</td>\n",
       "      <td>Fat Shark</td>\n",
       "      <td>[Electronics, Television &amp; Video, Video Glasses]</td>\n",
       "      <td>{'Date First Available': 'August 2, 2014', 'Ma...</td>\n",
       "      <td>B00MCW7G9M</td>\n",
       "      <td>NaN</td>\n",
       "      <td>NaN</td>\n",
       "      <td>NaN</td>\n",
       "    </tr>\n",
       "    <tr>\n",
       "      <th>1</th>\n",
       "      <td>All Electronics</td>\n",
       "      <td>Ce-H22B12-S1 4Kx2K Hdmi 4Port</td>\n",
       "      <td>5.0</td>\n",
       "      <td>1</td>\n",
       "      <td>[UPC: 662774021904, Weight: 0.600 lbs]</td>\n",
       "      <td>[HDMI In - HDMI Out]</td>\n",
       "      <td>None</td>\n",
       "      <td>[{'thumb': 'https://m.media-amazon.com/images/...</td>\n",
       "      <td>[]</td>\n",
       "      <td>SIIG</td>\n",
       "      <td>[Electronics, Television &amp; Video, Accessories,...</td>\n",
       "      <td>{'Product Dimensions': '0.83 x 4.17 x 2.05 inc...</td>\n",
       "      <td>B00YT6XQSE</td>\n",
       "      <td>NaN</td>\n",
       "      <td>NaN</td>\n",
       "      <td>NaN</td>\n",
       "    </tr>\n",
       "    <tr>\n",
       "      <th>2</th>\n",
       "      <td>Computers</td>\n",
       "      <td>Digi-Tatoo Decal Skin Compatible With MacBook ...</td>\n",
       "      <td>4.5</td>\n",
       "      <td>246</td>\n",
       "      <td>[WARNING: Please IDENTIFY MODEL NUMBER on the ...</td>\n",
       "      <td>[]</td>\n",
       "      <td>19.99</td>\n",
       "      <td>[{'thumb': 'https://m.media-amazon.com/images/...</td>\n",
       "      <td>[{'title': 'AL 2Sides Video', 'url': 'https://...</td>\n",
       "      <td>Digi-Tatoo</td>\n",
       "      <td>[Electronics, Computers &amp; Accessories, Laptop ...</td>\n",
       "      <td>{'Brand': 'Digi-Tatoo', 'Color': 'Fresh Marble...</td>\n",
       "      <td>B07SM135LS</td>\n",
       "      <td>NaN</td>\n",
       "      <td>NaN</td>\n",
       "      <td>NaN</td>\n",
       "    </tr>\n",
       "    <tr>\n",
       "      <th>3</th>\n",
       "      <td>AMAZON FASHION</td>\n",
       "      <td>NotoCity Compatible with Vivoactive 4 band 22m...</td>\n",
       "      <td>4.5</td>\n",
       "      <td>233</td>\n",
       "      <td>[☛NotoCity 22mm band is designed for Vivoactiv...</td>\n",
       "      <td>[]</td>\n",
       "      <td>9.99</td>\n",
       "      <td>[{'thumb': 'https://m.media-amazon.com/images/...</td>\n",
       "      <td>[]</td>\n",
       "      <td>NotoCity</td>\n",
       "      <td>[Electronics, Wearable Technology, Clips, Arm ...</td>\n",
       "      <td>{'Date First Available': 'May 29, 2020', 'Manu...</td>\n",
       "      <td>B089CNGZCW</td>\n",
       "      <td>NaN</td>\n",
       "      <td>NaN</td>\n",
       "      <td>NaN</td>\n",
       "    </tr>\n",
       "    <tr>\n",
       "      <th>4</th>\n",
       "      <td>Cell Phones &amp; Accessories</td>\n",
       "      <td>Motorola Droid X Essentials Combo Pack</td>\n",
       "      <td>3.8</td>\n",
       "      <td>64</td>\n",
       "      <td>[New Droid X Essentials Combo Pack, Exclusive ...</td>\n",
       "      <td>[all Genuine High Quality Motorola Made Access...</td>\n",
       "      <td>14.99</td>\n",
       "      <td>[{'thumb': 'https://m.media-amazon.com/images/...</td>\n",
       "      <td>[]</td>\n",
       "      <td>Verizon</td>\n",
       "      <td>[Electronics, Computers &amp; Accessories, Compute...</td>\n",
       "      <td>{'Product Dimensions': '11.6 x 6.9 x 3.1 inche...</td>\n",
       "      <td>B004E2Z88O</td>\n",
       "      <td>NaN</td>\n",
       "      <td>NaN</td>\n",
       "      <td>NaN</td>\n",
       "    </tr>\n",
       "  </tbody>\n",
       "</table>\n",
       "</div>"
      ],
      "text/plain": [
       "               main_category  \\\n",
       "0            All Electronics   \n",
       "1            All Electronics   \n",
       "2                  Computers   \n",
       "3             AMAZON FASHION   \n",
       "4  Cell Phones & Accessories   \n",
       "\n",
       "                                               title  average_rating  \\\n",
       "0             FS-1051 FATSHARK TELEPORTER V3 HEADSET             3.5   \n",
       "1                      Ce-H22B12-S1 4Kx2K Hdmi 4Port             5.0   \n",
       "2  Digi-Tatoo Decal Skin Compatible With MacBook ...             4.5   \n",
       "3  NotoCity Compatible with Vivoactive 4 band 22m...             4.5   \n",
       "4             Motorola Droid X Essentials Combo Pack             3.8   \n",
       "\n",
       "   rating_number                                           features  \\\n",
       "0              6                                                 []   \n",
       "1              1             [UPC: 662774021904, Weight: 0.600 lbs]   \n",
       "2            246  [WARNING: Please IDENTIFY MODEL NUMBER on the ...   \n",
       "3            233  [☛NotoCity 22mm band is designed for Vivoactiv...   \n",
       "4             64  [New Droid X Essentials Combo Pack, Exclusive ...   \n",
       "\n",
       "                                         description  price  \\\n",
       "0  [Teleporter V3 The “Teleporter V3” kit sets a ...   None   \n",
       "1                               [HDMI In - HDMI Out]   None   \n",
       "2                                                 []  19.99   \n",
       "3                                                 []   9.99   \n",
       "4  [all Genuine High Quality Motorola Made Access...  14.99   \n",
       "\n",
       "                                              images  \\\n",
       "0  [{'thumb': 'https://m.media-amazon.com/images/...   \n",
       "1  [{'thumb': 'https://m.media-amazon.com/images/...   \n",
       "2  [{'thumb': 'https://m.media-amazon.com/images/...   \n",
       "3  [{'thumb': 'https://m.media-amazon.com/images/...   \n",
       "4  [{'thumb': 'https://m.media-amazon.com/images/...   \n",
       "\n",
       "                                              videos       store  \\\n",
       "0                                                 []   Fat Shark   \n",
       "1                                                 []        SIIG   \n",
       "2  [{'title': 'AL 2Sides Video', 'url': 'https://...  Digi-Tatoo   \n",
       "3                                                 []    NotoCity   \n",
       "4                                                 []     Verizon   \n",
       "\n",
       "                                          categories  \\\n",
       "0   [Electronics, Television & Video, Video Glasses]   \n",
       "1  [Electronics, Television & Video, Accessories,...   \n",
       "2  [Electronics, Computers & Accessories, Laptop ...   \n",
       "3  [Electronics, Wearable Technology, Clips, Arm ...   \n",
       "4  [Electronics, Computers & Accessories, Compute...   \n",
       "\n",
       "                                             details parent_asin  \\\n",
       "0  {'Date First Available': 'August 2, 2014', 'Ma...  B00MCW7G9M   \n",
       "1  {'Product Dimensions': '0.83 x 4.17 x 2.05 inc...  B00YT6XQSE   \n",
       "2  {'Brand': 'Digi-Tatoo', 'Color': 'Fresh Marble...  B07SM135LS   \n",
       "3  {'Date First Available': 'May 29, 2020', 'Manu...  B089CNGZCW   \n",
       "4  {'Product Dimensions': '11.6 x 6.9 x 3.1 inche...  B004E2Z88O   \n",
       "\n",
       "   bought_together subtitle author  \n",
       "0              NaN      NaN    NaN  \n",
       "1              NaN      NaN    NaN  \n",
       "2              NaN      NaN    NaN  \n",
       "3              NaN      NaN    NaN  \n",
       "4              NaN      NaN    NaN  "
      ]
     },
     "execution_count": 3,
     "metadata": {},
     "output_type": "execute_result"
    }
   ],
   "source": [
    "df.head(5)"
   ]
  },
  {
   "cell_type": "code",
   "execution_count": 4,
   "id": "f7f69715-a5ad-46e7-84ee-ae51c993cb70",
   "metadata": {},
   "outputs": [
    {
     "data": {
      "text/plain": [
       "Index(['main_category', 'title', 'average_rating', 'rating_number', 'features',\n",
       "       'description', 'price', 'images', 'videos', 'store', 'categories',\n",
       "       'details', 'parent_asin', 'bought_together', 'subtitle', 'author'],\n",
       "      dtype='object')"
      ]
     },
     "execution_count": 4,
     "metadata": {},
     "output_type": "execute_result"
    }
   ],
   "source": [
    "df.columns"
   ]
  },
  {
   "cell_type": "code",
   "execution_count": 5,
   "id": "548ff5b5-e947-4ba4-b718-b26d35543665",
   "metadata": {},
   "outputs": [],
   "source": [
    "df = df[['parent_asin','main_category', 'title', 'average_rating', 'rating_number', 'features',\n",
    "       'description', 'price', 'store', 'categories']]"
   ]
  },
  {
   "cell_type": "code",
   "execution_count": 6,
   "id": "c2a24e62-957e-48df-ac0a-9624755cc3ae",
   "metadata": {},
   "outputs": [
    {
     "data": {
      "text/html": [
       "<div>\n",
       "<style scoped>\n",
       "    .dataframe tbody tr th:only-of-type {\n",
       "        vertical-align: middle;\n",
       "    }\n",
       "\n",
       "    .dataframe tbody tr th {\n",
       "        vertical-align: top;\n",
       "    }\n",
       "\n",
       "    .dataframe thead th {\n",
       "        text-align: right;\n",
       "    }\n",
       "</style>\n",
       "<table border=\"1\" class=\"dataframe\">\n",
       "  <thead>\n",
       "    <tr style=\"text-align: right;\">\n",
       "      <th></th>\n",
       "      <th>parent_asin</th>\n",
       "      <th>main_category</th>\n",
       "      <th>title</th>\n",
       "      <th>average_rating</th>\n",
       "      <th>rating_number</th>\n",
       "      <th>features</th>\n",
       "      <th>description</th>\n",
       "      <th>price</th>\n",
       "      <th>store</th>\n",
       "      <th>categories</th>\n",
       "    </tr>\n",
       "  </thead>\n",
       "  <tbody>\n",
       "    <tr>\n",
       "      <th>0</th>\n",
       "      <td>B00MCW7G9M</td>\n",
       "      <td>All Electronics</td>\n",
       "      <td>FS-1051 FATSHARK TELEPORTER V3 HEADSET</td>\n",
       "      <td>3.5</td>\n",
       "      <td>6</td>\n",
       "      <td>[]</td>\n",
       "      <td>[Teleporter V3 The “Teleporter V3” kit sets a ...</td>\n",
       "      <td>None</td>\n",
       "      <td>Fat Shark</td>\n",
       "      <td>[Electronics, Television &amp; Video, Video Glasses]</td>\n",
       "    </tr>\n",
       "    <tr>\n",
       "      <th>1</th>\n",
       "      <td>B00YT6XQSE</td>\n",
       "      <td>All Electronics</td>\n",
       "      <td>Ce-H22B12-S1 4Kx2K Hdmi 4Port</td>\n",
       "      <td>5.0</td>\n",
       "      <td>1</td>\n",
       "      <td>[UPC: 662774021904, Weight: 0.600 lbs]</td>\n",
       "      <td>[HDMI In - HDMI Out]</td>\n",
       "      <td>None</td>\n",
       "      <td>SIIG</td>\n",
       "      <td>[Electronics, Television &amp; Video, Accessories,...</td>\n",
       "    </tr>\n",
       "  </tbody>\n",
       "</table>\n",
       "</div>"
      ],
      "text/plain": [
       "  parent_asin    main_category                                   title  \\\n",
       "0  B00MCW7G9M  All Electronics  FS-1051 FATSHARK TELEPORTER V3 HEADSET   \n",
       "1  B00YT6XQSE  All Electronics           Ce-H22B12-S1 4Kx2K Hdmi 4Port   \n",
       "\n",
       "   average_rating  rating_number                                features  \\\n",
       "0             3.5              6                                      []   \n",
       "1             5.0              1  [UPC: 662774021904, Weight: 0.600 lbs]   \n",
       "\n",
       "                                         description price      store  \\\n",
       "0  [Teleporter V3 The “Teleporter V3” kit sets a ...  None  Fat Shark   \n",
       "1                               [HDMI In - HDMI Out]  None       SIIG   \n",
       "\n",
       "                                          categories  \n",
       "0   [Electronics, Television & Video, Video Glasses]  \n",
       "1  [Electronics, Television & Video, Accessories,...  "
      ]
     },
     "execution_count": 6,
     "metadata": {},
     "output_type": "execute_result"
    }
   ],
   "source": [
    "df.head(2)"
   ]
  },
  {
   "cell_type": "code",
   "execution_count": 7,
   "id": "8a5dc8d1-f262-4cd3-ba45-41d75328b9b3",
   "metadata": {},
   "outputs": [],
   "source": [
    "uf = pd.read_csv(\"Electronics.csv\")"
   ]
  },
  {
   "cell_type": "code",
   "execution_count": 8,
   "id": "97dbc320-b027-4d64-87d4-81c663fc1ba9",
   "metadata": {
    "scrolled": true
   },
   "outputs": [
    {
     "data": {
      "text/html": [
       "<div>\n",
       "<style scoped>\n",
       "    .dataframe tbody tr th:only-of-type {\n",
       "        vertical-align: middle;\n",
       "    }\n",
       "\n",
       "    .dataframe tbody tr th {\n",
       "        vertical-align: top;\n",
       "    }\n",
       "\n",
       "    .dataframe thead th {\n",
       "        text-align: right;\n",
       "    }\n",
       "</style>\n",
       "<table border=\"1\" class=\"dataframe\">\n",
       "  <thead>\n",
       "    <tr style=\"text-align: right;\">\n",
       "      <th></th>\n",
       "      <th>user_id</th>\n",
       "      <th>parent_asin</th>\n",
       "      <th>rating</th>\n",
       "      <th>timestamp</th>\n",
       "    </tr>\n",
       "  </thead>\n",
       "  <tbody>\n",
       "    <tr>\n",
       "      <th>0</th>\n",
       "      <td>AFKZENTNBQ7A7V7UXW5JJI6UGRYQ</td>\n",
       "      <td>B01G8JO5F2</td>\n",
       "      <td>5.0</td>\n",
       "      <td>1523093017534</td>\n",
       "    </tr>\n",
       "    <tr>\n",
       "      <th>1</th>\n",
       "      <td>AFKZENTNBQ7A7V7UXW5JJI6UGRYQ</td>\n",
       "      <td>B07N69T6TM</td>\n",
       "      <td>1.0</td>\n",
       "      <td>1592678549731</td>\n",
       "    </tr>\n",
       "    <tr>\n",
       "      <th>2</th>\n",
       "      <td>AFKZENTNBQ7A7V7UXW5JJI6UGRYQ</td>\n",
       "      <td>B083NRGZMM</td>\n",
       "      <td>3.0</td>\n",
       "      <td>1658185117948</td>\n",
       "    </tr>\n",
       "    <tr>\n",
       "      <th>3</th>\n",
       "      <td>AGGZ357AO26RQZVRLGU4D4N52DZQ</td>\n",
       "      <td>B001OC5JKY</td>\n",
       "      <td>5.0</td>\n",
       "      <td>1290278495000</td>\n",
       "    </tr>\n",
       "    <tr>\n",
       "      <th>4</th>\n",
       "      <td>AG2L7H23R5LLKDKLBEF2Q3L2MVDA</td>\n",
       "      <td>B07CJYMRWM</td>\n",
       "      <td>5.0</td>\n",
       "      <td>1676601581238</td>\n",
       "    </tr>\n",
       "  </tbody>\n",
       "</table>\n",
       "</div>"
      ],
      "text/plain": [
       "                        user_id parent_asin  rating      timestamp\n",
       "0  AFKZENTNBQ7A7V7UXW5JJI6UGRYQ  B01G8JO5F2     5.0  1523093017534\n",
       "1  AFKZENTNBQ7A7V7UXW5JJI6UGRYQ  B07N69T6TM     1.0  1592678549731\n",
       "2  AFKZENTNBQ7A7V7UXW5JJI6UGRYQ  B083NRGZMM     3.0  1658185117948\n",
       "3  AGGZ357AO26RQZVRLGU4D4N52DZQ  B001OC5JKY     5.0  1290278495000\n",
       "4  AG2L7H23R5LLKDKLBEF2Q3L2MVDA  B07CJYMRWM     5.0  1676601581238"
      ]
     },
     "execution_count": 8,
     "metadata": {},
     "output_type": "execute_result"
    }
   ],
   "source": [
    "uf.head(5)"
   ]
  },
  {
   "cell_type": "code",
   "execution_count": 9,
   "id": "7555a4f7-a246-4457-a3b7-d10bd4ad364f",
   "metadata": {},
   "outputs": [
    {
     "data": {
      "text/plain": [
       "(1610012, 10)"
      ]
     },
     "execution_count": 9,
     "metadata": {},
     "output_type": "execute_result"
    }
   ],
   "source": [
    "df.shape"
   ]
  },
  {
   "cell_type": "code",
   "execution_count": 10,
   "id": "8def381b-8bd8-4b9a-ac3b-515adef5d0fe",
   "metadata": {},
   "outputs": [
    {
     "data": {
      "text/plain": [
       "(43365426, 4)"
      ]
     },
     "execution_count": 10,
     "metadata": {},
     "output_type": "execute_result"
    }
   ],
   "source": [
    "uf.shape"
   ]
  },
  {
   "cell_type": "code",
   "execution_count": 11,
   "id": "55819917-f3ee-4e92-acd7-bffd67aec80c",
   "metadata": {},
   "outputs": [],
   "source": [
    "usersWithProducts = df.merge(uf, on = \"parent_asin\")"
   ]
  },
  {
   "cell_type": "code",
   "execution_count": 12,
   "id": "0d8942dc-6d47-40fd-95a5-6c38a069d715",
   "metadata": {},
   "outputs": [
    {
     "data": {
      "text/html": [
       "<div>\n",
       "<style scoped>\n",
       "    .dataframe tbody tr th:only-of-type {\n",
       "        vertical-align: middle;\n",
       "    }\n",
       "\n",
       "    .dataframe tbody tr th {\n",
       "        vertical-align: top;\n",
       "    }\n",
       "\n",
       "    .dataframe thead th {\n",
       "        text-align: right;\n",
       "    }\n",
       "</style>\n",
       "<table border=\"1\" class=\"dataframe\">\n",
       "  <thead>\n",
       "    <tr style=\"text-align: right;\">\n",
       "      <th></th>\n",
       "      <th>parent_asin</th>\n",
       "      <th>main_category</th>\n",
       "      <th>title</th>\n",
       "      <th>average_rating</th>\n",
       "      <th>rating_number</th>\n",
       "      <th>features</th>\n",
       "      <th>description</th>\n",
       "      <th>price</th>\n",
       "      <th>store</th>\n",
       "      <th>categories</th>\n",
       "      <th>user_id</th>\n",
       "      <th>rating</th>\n",
       "      <th>timestamp</th>\n",
       "    </tr>\n",
       "  </thead>\n",
       "  <tbody>\n",
       "    <tr>\n",
       "      <th>0</th>\n",
       "      <td>B00MCW7G9M</td>\n",
       "      <td>All Electronics</td>\n",
       "      <td>FS-1051 FATSHARK TELEPORTER V3 HEADSET</td>\n",
       "      <td>3.5</td>\n",
       "      <td>6</td>\n",
       "      <td>[]</td>\n",
       "      <td>[Teleporter V3 The “Teleporter V3” kit sets a ...</td>\n",
       "      <td>None</td>\n",
       "      <td>Fat Shark</td>\n",
       "      <td>[Electronics, Television &amp; Video, Video Glasses]</td>\n",
       "      <td>AF2QDRU54L2J5UXO65JDS2TF55IA</td>\n",
       "      <td>2.0</td>\n",
       "      <td>1439917940000</td>\n",
       "    </tr>\n",
       "    <tr>\n",
       "      <th>1</th>\n",
       "      <td>B00MCW7G9M</td>\n",
       "      <td>All Electronics</td>\n",
       "      <td>FS-1051 FATSHARK TELEPORTER V3 HEADSET</td>\n",
       "      <td>3.5</td>\n",
       "      <td>6</td>\n",
       "      <td>[]</td>\n",
       "      <td>[Teleporter V3 The “Teleporter V3” kit sets a ...</td>\n",
       "      <td>None</td>\n",
       "      <td>Fat Shark</td>\n",
       "      <td>[Electronics, Television &amp; Video, Video Glasses]</td>\n",
       "      <td>AGOFO36A4M4M5GGMXRJ6X4TLMW3Q</td>\n",
       "      <td>5.0</td>\n",
       "      <td>1444573813000</td>\n",
       "    </tr>\n",
       "  </tbody>\n",
       "</table>\n",
       "</div>"
      ],
      "text/plain": [
       "  parent_asin    main_category                                   title  \\\n",
       "0  B00MCW7G9M  All Electronics  FS-1051 FATSHARK TELEPORTER V3 HEADSET   \n",
       "1  B00MCW7G9M  All Electronics  FS-1051 FATSHARK TELEPORTER V3 HEADSET   \n",
       "\n",
       "   average_rating  rating_number features  \\\n",
       "0             3.5              6       []   \n",
       "1             3.5              6       []   \n",
       "\n",
       "                                         description price      store  \\\n",
       "0  [Teleporter V3 The “Teleporter V3” kit sets a ...  None  Fat Shark   \n",
       "1  [Teleporter V3 The “Teleporter V3” kit sets a ...  None  Fat Shark   \n",
       "\n",
       "                                         categories  \\\n",
       "0  [Electronics, Television & Video, Video Glasses]   \n",
       "1  [Electronics, Television & Video, Video Glasses]   \n",
       "\n",
       "                        user_id  rating      timestamp  \n",
       "0  AF2QDRU54L2J5UXO65JDS2TF55IA     2.0  1439917940000  \n",
       "1  AGOFO36A4M4M5GGMXRJ6X4TLMW3Q     5.0  1444573813000  "
      ]
     },
     "execution_count": 12,
     "metadata": {},
     "output_type": "execute_result"
    }
   ],
   "source": [
    "usersWithProducts.head(2)"
   ]
  },
  {
   "cell_type": "code",
   "execution_count": 13,
   "id": "b856419a-d7c9-4af2-bec7-a57d2fc24ab5",
   "metadata": {},
   "outputs": [
    {
     "data": {
      "text/plain": [
       "(43365426, 13)"
      ]
     },
     "execution_count": 13,
     "metadata": {},
     "output_type": "execute_result"
    }
   ],
   "source": [
    "usersWithProducts.shape"
   ]
  },
  {
   "cell_type": "code",
   "execution_count": 14,
   "id": "aa0e5abe-9552-479c-9254-7e8ef06c50b7",
   "metadata": {},
   "outputs": [
    {
     "data": {
      "text/plain": [
       "(1609860,)"
      ]
     },
     "execution_count": 14,
     "metadata": {},
     "output_type": "execute_result"
    }
   ],
   "source": [
    "usersWithProducts[\"parent_asin\"].unique().shape"
   ]
  },
  {
   "cell_type": "code",
   "execution_count": 30,
   "id": "b9ca7f3c-55f0-44e2-82f9-762c9949fc56",
   "metadata": {},
   "outputs": [],
   "source": [
    "tenRatingCount = usersWithProducts[\"user_id\"].value_counts() > 20"
   ]
  },
  {
   "cell_type": "code",
   "execution_count": 31,
   "id": "8402c55b-dd46-4b3f-ac58-a86daf332559",
   "metadata": {},
   "outputs": [
    {
     "data": {
      "text/plain": [
       "(18286191,)"
      ]
     },
     "execution_count": 31,
     "metadata": {},
     "output_type": "execute_result"
    }
   ],
   "source": [
    "tenRatingCount.shape"
   ]
  },
  {
   "cell_type": "code",
   "execution_count": 32,
   "id": "28f0e62a-9c55-482d-859f-2af561b15ab5",
   "metadata": {},
   "outputs": [
    {
     "data": {
      "text/plain": [
       "user_id\n",
       "AEIIRIHLIYKQGI7ZOCIJTRDF5NPQ      True\n",
       "AHSV5AUFONH7QMMUPF7M6FUJRJ6Q_1    True\n",
       "AHMNA5UK3V66O2V3DZSBJA4FYMOA      True\n",
       "AFTZWAK3ZHAPCNSOT5GCKQDECBTQ      True\n",
       "AECTQQX663PTF5UQ2RA5TUL3BXVQ      True\n",
       "AGUTZC4GHLTGYHA3KBEDRF6MHB6A      True\n",
       "AG73BVBKUOH22USSFJA5ZWL7AKXA      True\n",
       "AHPJHWUFX7DFIVS5B3XNEK7JLSAQ      True\n",
       "AGZZXSMMS4WRHHJRBUJZI4FZDHKQ      True\n",
       "AHVYJTCVY4KGNT4XARQBSJNQMWVQ      True\n",
       "AG375WAXLZ7PIOQKIQ6KQB4J3JVQ      True\n",
       "AH37PMZUFFA52Z3KSD4KLUPJTJGA_1    True\n",
       "AEP4KJDGBH6XPJKFEHPYSAPUNDBQ      True\n",
       "AED6G6RZDEIMXSJOMFX6QNXY34OA      True\n",
       "AGZ43FPMRQ6YVADNXRQZDH4NDIGA      True\n",
       "AHDZKPPKUT7HD47LXCBN7RQNN6KQ      True\n",
       "AE37Q6TCPNWG4RUJMJIKRYFBI4CQ      True\n",
       "AH5Z47PJ5RTSUL2RLCO2QITGIT4Q      True\n",
       "AHD3NGMLEO26ICLLAF72W7ELLUNA      True\n",
       "AEHOFUNZP6VT74RUDDCJ2VVIT56A      True\n",
       "Name: count, dtype: bool"
      ]
     },
     "execution_count": 32,
     "metadata": {},
     "output_type": "execute_result"
    }
   ],
   "source": [
    "tenRatingCount.head(20)"
   ]
  },
  {
   "cell_type": "code",
   "execution_count": 33,
   "id": "9221ef6f-b76a-4a8b-a0d3-c465198f87da",
   "metadata": {},
   "outputs": [],
   "source": [
    "tenRatingCount = tenRatingCount.loc[tenRatingCount]"
   ]
  },
  {
   "cell_type": "code",
   "execution_count": 34,
   "id": "fd75f135-0a5b-4f65-89c4-e8695dfb6609",
   "metadata": {},
   "outputs": [
    {
     "data": {
      "text/plain": [
       "(113600,)"
      ]
     },
     "execution_count": 34,
     "metadata": {},
     "output_type": "execute_result"
    }
   ],
   "source": [
    "tenRatingCount.shape"
   ]
  },
  {
   "cell_type": "code",
   "execution_count": null,
   "id": "3b427196-9fca-46f7-9bd3-b9934b0869f0",
   "metadata": {},
   "outputs": [],
   "source": []
  }
 ],
 "metadata": {
  "kernelspec": {
   "display_name": "Python 3 (ipykernel)",
   "language": "python",
   "name": "python3"
  },
  "language_info": {
   "codemirror_mode": {
    "name": "ipython",
    "version": 3
   },
   "file_extension": ".py",
   "mimetype": "text/x-python",
   "name": "python",
   "nbconvert_exporter": "python",
   "pygments_lexer": "ipython3",
   "version": "3.12.3"
  }
 },
 "nbformat": 4,
 "nbformat_minor": 5
}
